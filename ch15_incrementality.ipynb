{
 "cells": [
  {
   "cell_type": "markdown",
   "metadata": {},
   "source": [
    "# Notes to Ch. 15: Incrementality - Causality"
   ]
  },
  {
   "cell_type": "code",
   "execution_count": 1685,
   "metadata": {},
   "outputs": [],
   "source": [
    "import numpy as np\n",
    "import pandas as pd\n",
    "import matplotlib.pyplot as plt\n",
    "import matplotlib\n",
    "from matplotlib.pyplot import cm\n",
    "import matplotlib.colors as colors\n",
    "import cycler\n",
    "from sklearn.linear_model import LinearRegression, LogisticRegression\n",
    "from sklearn.ensemble import GradientBoostingClassifier, GradientBoostingRegressor\n",
    "from scipy.stats import gaussian_kde\n",
    "\n",
    "# set plotting parameters from the beginning\n",
    "font = {'family' : 'monospace',\n",
    "        'weight' : 'normal',\n",
    "        'size'   : 14}\n",
    "axes = {'titlesize' : 22,\n",
    "        'labelsize' : 20,\n",
    "       'prop_cycle' : cycler.cycler(color='k')}\n",
    "lines = {'color' : 'k'}\n",
    "figure = {'figsize' : (10,4),\n",
    "         'autolayout' : True,}\n",
    "matplotlib.rc('font', **font)\n",
    "matplotlib.rc('axes', **axes)\n",
    "matplotlib.rc('figure', **figure)\n",
    "matplotlib.rc('lines', **lines)\n"
   ]
  },
  {
   "cell_type": "markdown",
   "metadata": {},
   "source": [
    "## Colliders and confounders:\n",
    "\n",
    "* Let's start by simulating the effect of a `confounder`: $C \\rightarrow X, C \\rightarrow Y$\n",
    "* And a `collider`: $X \\rightarrow C, Y \\rightarrow C$"
   ]
  },
  {
   "cell_type": "code",
   "execution_count": 1686,
   "metadata": {},
   "outputs": [],
   "source": [
    "def simulate_confounder(nobs, seed):\n",
    "    \"Simulate confounder\"\n",
    "    np.random.seed(seed)\n",
    "    c = np.random.randn(nobs)\n",
    "    noice_x = np.sqrt(1)*np.random.randn(nobs)\n",
    "    x = 10 + 0.5*c + noice_x\n",
    "    noice_y = np.sqrt(2)*np.random.randn(nobs)\n",
    "    y = -2 + 3*c + noice_y\n",
    "\n",
    "    return y,x,c\n",
    "\n",
    "        \n",
    "def run_mc(nobs, seed_mc, num_montecarlo, fun_to_simulate, **kwargs):\n",
    "    \"Monte Carlo simulation function\"\n",
    "    np.random.seed(seed_mc)\n",
    "    seed_arr = np.random.randint(low=1, high=2*num_montecarlo, size = num_montecarlo)\n",
    "    df_results = pd.DataFrame(index=range(num_montecarlo), \n",
    "                              columns = ['beta_biased', 'beta_unbiased'], dtype='float')\n",
    "    for i in range(num_montecarlo):\n",
    "        if kwargs:\n",
    "            rho = kwargs['rho']\n",
    "            my_func = fun_to_simulate(nobs, rho = rho, seed=seed_arr[i])\n",
    "        else:\n",
    "            my_func = fun_to_simulate(nobs, seed=seed_arr[i])\n",
    "        y,x,c = my_func\n",
    "        x = x.reshape((nobs,1))\n",
    "        c = c.reshape((nobs,1))\n",
    "        # regression of y on X\n",
    "        regi = LinearRegression(fit_intercept=True).fit(x,y)\n",
    "        coef_x = regi.coef_[0]\n",
    "        # regression of y on X,C\n",
    "        xmat = np.concatenate((x,c), axis=1)\n",
    "        regc = LinearRegression(fit_intercept=True).fit(xmat,y)\n",
    "        coef_xc = regc.coef_[0]\n",
    "        df_results.beta_biased.loc[i] = coef_x\n",
    "        df_results.beta_unbiased.loc[i] = coef_xc\n",
    "        \n",
    "    # compute mean and ci\n",
    "    pmin, pmax = 0.025, 0.975\n",
    "    mean = df_results.mean()\n",
    "    ci = df_results.quantile([pmin, pmax])\n",
    "    ci.rename(index={pmin: f'q_{100*pmin}', pmax: f'q_{100*pmax}'}, inplace=True)\n",
    "    ci.loc['mean'] = mean.values\n",
    "    \n",
    "    return ci\n",
    "    "
   ]
  },
  {
   "cell_type": "code",
   "execution_count": 1687,
   "metadata": {},
   "outputs": [],
   "source": [
    "def plot_mc_results(df, ax):\n",
    "    \"Plot results crom MC\"\n",
    "    mean_mc = df.loc['mean']\n",
    "    yerr = df.loc[['q_2.5', 'q_97.5']]\n",
    "    mean_mc.plot(kind='bar', ax=ax, edgecolor='k', facecolor='0.5')\n",
    "    ax.set_xticks([0,1])\n",
    "    for c, col in enumerate(yerr.columns):\n",
    "        ax.plot([c,c], yerr[col])\n",
    "    xmin, xmax = ax.get_xlim()\n",
    "    ax.plot([xmin, xmax], [0,0], lw=0.5)\n",
    "    return ax"
   ]
  },
  {
   "cell_type": "code",
   "execution_count": 1688,
   "metadata": {},
   "outputs": [
    {
     "data": {
      "text/plain": [
       "Text(0.5, 1.0, 'Confounder Bias: Mean and 95% CI (estimate for X)')"
      ]
     },
     "execution_count": 1688,
     "metadata": {},
     "output_type": "execute_result"
    },
    {
     "data": {
      "image/png": "[encoded data removed]",
      "text/plain": [
       "<Figure size 720x288 with 1 Axes>"
      ]
     },
     "metadata": {
      "needs_background": "light"
     },
     "output_type": "display_data"
    }
   ],
   "source": [
    "nobs = 100\n",
    "seed_mc = 26318\n",
    "num_montecarlo = 300\n",
    "ci_conf = run_mc(nobs, seed_mc, num_montecarlo, fun_to_simulate = simulate_confounder)\n",
    "# plot\n",
    "fig, ax = plt.subplots()\n",
    "ax = plot_mc_results(df = ci_conf, ax = ax)\n",
    "ax.set_xticks([0,1])\n",
    "ax.set_xticklabels(['Without Confounder', 'With Confounder'], rotation=0)\n",
    "ax.set_title('Confounder Bias: Mean and 95% CI (estimate for X)')"
   ]
  },
  {
   "cell_type": "code",
   "execution_count": 1689,
   "metadata": {},
   "outputs": [],
   "source": [
    "def simulate_collider(nobs, seed):\n",
    "    \"Simulate confounder\"\n",
    "    np.random.seed(seed)\n",
    "    noice_x = np.sqrt(1)*np.random.randn(nobs)\n",
    "    x = 10 + noice_x\n",
    "    noice_y = np.sqrt(2)*np.random.randn(nobs)\n",
    "    y = -2 + noice_y\n",
    "    # X -> C, Y -> C\n",
    "    noice_c = np.sqrt(0.1)*np.random.randn(nobs)\n",
    "    c = 5 - 2*x + 10*y + noice_c\n",
    "    \n",
    "    return y,x,c"
   ]
  },
  {
   "cell_type": "code",
   "execution_count": 1690,
   "metadata": {},
   "outputs": [
    {
     "data": {
      "text/plain": [
       "Text(0.5, 1.0, 'Collider Bias: Mean and 95% CI')"
      ]
     },
     "execution_count": 1690,
     "metadata": {},
     "output_type": "execute_result"
    },
    {
     "data": {
      "image/png": "[encoded data removed]",
      "text/plain": [
       "<Figure size 720x288 with 1 Axes>"
      ]
     },
     "metadata": {
      "needs_background": "light"
     },
     "output_type": "display_data"
    }
   ],
   "source": [
    "nobs = 100\n",
    "seed_mc = 26318\n",
    "num_montecarlo = 300\n",
    "ci_col = run_mc(nobs, seed_mc, num_montecarlo, fun_to_simulate = simulate_collider)\n",
    "# plot\n",
    "fig, ax = plt.subplots()\n",
    "ax = plot_mc_results(df = ci_col, ax = ax)\n",
    "ax.set_xticks([0,1])\n",
    "ax.set_xticklabels(['Without Collider', 'With Collider'], rotation=0)\n",
    "ax.set_title('Collider Bias: Mean and 95% CI')"
   ]
  },
  {
   "cell_type": "code",
   "execution_count": 1691,
   "metadata": {},
   "outputs": [],
   "source": [
    "def simulate_collider_causal(nobs, seed):\n",
    "    \"Simulate confounder: but X-->Y so there's a causal effect\"\n",
    "    np.random.seed(seed)\n",
    "    noice_x = np.sqrt(1)*np.random.randn(nobs)\n",
    "    x = 10 + noice_x\n",
    "    noice_y = np.sqrt(2)*np.random.randn(nobs)\n",
    "    y = -2 + 2*x + noice_y\n",
    "    # X -> C, Y -> C\n",
    "    noice_c = np.sqrt(0.1)*np.random.randn(nobs)\n",
    "    c = 5 - 2*x + 10*y + noice_c\n",
    "    \n",
    "    return y,x,c"
   ]
  },
  {
   "cell_type": "code",
   "execution_count": 1692,
   "metadata": {},
   "outputs": [
    {
     "data": {
      "text/plain": [
       "Text(0.5, 1.0, 'Collider Bias (Causal): Mean and 95% CI')"
      ]
     },
     "execution_count": 1692,
     "metadata": {},
     "output_type": "execute_result"
    },
    {
     "data": {
      "image/png": "[encoded data removed]",
      "text/plain": [
       "<Figure size 720x288 with 1 Axes>"
      ]
     },
     "metadata": {
      "needs_background": "light"
     },
     "output_type": "display_data"
    }
   ],
   "source": [
    "nobs = 100\n",
    "seed_mc = 26318\n",
    "num_montecarlo = 300\n",
    "ci_col_c = run_mc(nobs, seed_mc, num_montecarlo, fun_to_simulate = simulate_collider_causal)\n",
    "# plot\n",
    "fig, ax = plt.subplots()\n",
    "ax = plot_mc_results(df = ci_col_c, ax = ax)\n",
    "ax.set_xticks([0,1])\n",
    "ax.set_xticklabels(['Without Collider', 'With Collider'], rotation=0)\n",
    "ax.set_title('Collider Bias (Causal): Mean and 95% CI')"
   ]
  },
  {
   "cell_type": "code",
   "execution_count": 1693,
   "metadata": {},
   "outputs": [
    {
     "data": {
      "text/plain": [
       "Text(0.5, 1.0, 'Collider Bias (causal)')"
      ]
     },
     "execution_count": 1693,
     "metadata": {},
     "output_type": "execute_result"
    },
    {
     "data": {
      "image/png": "[encoded data removed]",
      "text/plain": [
       "<Figure size 1440x360 with 3 Axes>"
      ]
     },
     "metadata": {
      "needs_background": "light"
     },
     "output_type": "display_data"
    }
   ],
   "source": [
    "# plot the three\n",
    "fig, ax = plt.subplots(1,3, figsize = (20,5))\n",
    "# confounder\n",
    "ax0 = ax[0]\n",
    "ax0 = plot_mc_results(df = ci_conf, ax = ax0)\n",
    "ax0.set_xticks([0,1])\n",
    "ax0.set_xticklabels(['Without Confounder', 'With Confounder'], rotation=0)\n",
    "ax0.set_title('Confounder Bias (estimate for X)')\n",
    "# collider without causation\n",
    "ax1 = ax[1]\n",
    "ax1 = plot_mc_results(df = ci_col, ax = ax1)\n",
    "ax1.set_xticks([0,1])\n",
    "ax1.set_xticklabels(['Without Collider', 'With Collider'], rotation=0)\n",
    "ax1.set_title('Collider Bias (no causation)')\n",
    "# collider with causation\n",
    "ax2 = ax[2]\n",
    "ax2 = plot_mc_results(df = ci_col_c, ax = ax2)\n",
    "ax2.set_xticks([0,1])\n",
    "ax2.set_xticklabels(['Without Collider', 'With Collider'], rotation=0)\n",
    "ax2.set_title('Collider Bias (causal)')"
   ]
  },
  {
   "cell_type": "code",
   "execution_count": 1694,
   "metadata": {},
   "outputs": [
    {
     "data": {
      "text/plain": [
       "Text(0.5, 1.0, 'Collider Bias (estimate for X)')"
      ]
     },
     "execution_count": 1694,
     "metadata": {},
     "output_type": "execute_result"
    },
    {
     "data": {
      "image/png": "[encoded data removed]",
      "text/plain": [
       "<Figure size 1152x360 with 2 Axes>"
      ]
     },
     "metadata": {
      "needs_background": "light"
     },
     "output_type": "display_data"
    }
   ],
   "source": [
    "# plot only two\n",
    "fig, ax = plt.subplots(1,2, figsize = (16,5))\n",
    "# confounder\n",
    "ax0 = ax[0]\n",
    "ax0 = plot_mc_results(df = ci_conf, ax = ax0)\n",
    "ax0.set_xticks([0,1])\n",
    "ax0.set_xticklabels(['Without Confounder', 'With Confounder'], rotation=0, fontsize=18)\n",
    "ax0.set_title('Confounder Bias (estimate for X)')\n",
    "# collider without causation\n",
    "ax1 = ax[1]\n",
    "ax1 = plot_mc_results(df = ci_col, ax = ax1)\n",
    "ax1.set_xticks([0,1])\n",
    "ax1.set_xticklabels(['Without Collider', 'With Collider'], rotation=0, fontsize=18)\n",
    "ax1.set_title('Collider Bias (estimate for X)')"
   ]
  },
  {
   "cell_type": "markdown",
   "metadata": {},
   "source": [
    "### What happens if you don't observe a confounder, but only a proxy of it?\n",
    "\n",
    "* Let's simulate this"
   ]
  },
  {
   "cell_type": "code",
   "execution_count": 1695,
   "metadata": {},
   "outputs": [],
   "source": [
    "def simulate_xmatrix_rho(nobs, nfeats, rho, seed):\n",
    "    \"\"\"\n",
    "    Simulate a feature matrix with normally distributed features\n",
    "    \"\"\"\n",
    "    np.random.seed(seed)\n",
    "    # first step: construct the vcv with unit variances and rho elsewhere\n",
    "    pre_vcv = np.array([[rho]*nfeats]*nfeats)\n",
    "    iden_mtx = np.eye(nfeats)\n",
    "    vcv = iden_mtx + (1-iden_mtx)*pre_vcv\n",
    "    # second step: draw from \n",
    "    mu = [0]*nfeats\n",
    "    Xdf = pd.DataFrame(np.random.multivariate_normal(mean = mu, cov = vcv, size=nobs), \n",
    "                      columns = [f'x{i+1}' for i in range(nfeats)])\n",
    "    return Xdf\n",
    "\n",
    "def simulate_conf_proxy(nobs, rho, seed):\n",
    "    \"Simulate confounder bias with a correlated proxy\"\n",
    "    np.random.seed(seed)\n",
    "    # generate confounder and proxy\n",
    "    cdf = simulate_xmatrix_rho(nobs, nfeats=2, rho=rho, seed=seed)\n",
    "    c = cdf['x1'].values\n",
    "    proxy = cdf['x2'].values\n",
    "    # c --> x\n",
    "    noice_x = np.sqrt(1)*np.random.randn(nobs)\n",
    "    x = 10 + 0.5*c + noice_x\n",
    "    # now y = f(x,c)\n",
    "    noice_y = np.sqrt(2)*np.random.randn(nobs)\n",
    "    y = -2 + 3*c - 2*x + noice_y\n",
    "\n",
    "\n",
    "    return y,x,proxy\n",
    "    "
   ]
  },
  {
   "cell_type": "code",
   "execution_count": 1696,
   "metadata": {},
   "outputs": [
    {
     "data": {
      "image/png": "[encoded data removed]",
      "text/plain": [
       "<Figure size 720x288 with 1 Axes>"
      ]
     },
     "metadata": {
      "needs_background": "light"
     },
     "output_type": "display_data"
    }
   ],
   "source": [
    "nobs = 100\n",
    "seed_mc = 83511\n",
    "num_montecarlo = 300\n",
    "rho_grid = np.linspace(0,1,5)\n",
    "fig, ax = plt.subplots()\n",
    "for r, rho_r in enumerate(rho_grid):\n",
    "    mc_r = run_mc(nobs, seed_mc, num_montecarlo, fun_to_simulate = simulate_conf_proxy, rho = rho_r)\n",
    "    mean_r = mc_r.beta_unbiased.loc['mean']\n",
    "    low_r, high_r = mc_r.beta_unbiased.loc[['q_2.5', 'q_97.5']].values\n",
    "    ax.bar(r, mean_r, color = '0.5', edgecolor='k')\n",
    "    ax.plot([r,r], [low_r, high_r], color='k')\n",
    "\n",
    "xmin, xmax = ax.get_xlim()\n",
    "true = ax.plot([xmin, xmax], [-2,-2], ls='--')\n",
    "ax.legend(true, ['True Effect'], loc=3)\n",
    "xlim = ax.set_xlim([xmin, xmax])\n",
    "xtks = ax.set_xticks(list(range(len(rho_grid))))\n",
    "xtks_l = ax.set_xticklabels(rho_grid)\n",
    "ax.set_xlabel('Correlation Between Proxy and Confounder')\n",
    "ttl = ax.set_title('Confounder Proxy (mean and 95% CI)')"
   ]
  },
  {
   "cell_type": "markdown",
   "metadata": {},
   "source": [
    "## Selection bias:\n",
    "\n",
    "There is `selection bias` whenever the assignment probability depends on the potential outcomes (Imbens & Rubin's _unconfounded assignment_ assumption).  Angrist & Pischke call this _Conditional Independence Assumption_ (${Y_{0i}, Y_{1i} \\perp D_i | X_i}$), $X_i$ are the _observed_ confounders for unit _i_)\n",
    "\n",
    "Simulate a typical DAG with selection-bias:\n",
    "\n",
    "* `Z`: confounder\n",
    "* `D`: binary treatment (function of `Z`)\n",
    "* `Y`: outcome\n",
    "\n",
    "DAG usually has confounding, but we will also simulate the case of now confounding, so the second arrow disappears.\n",
    "$$\n",
    "\\begin{eqnarray}\n",
    "Z &\\rightarrow& D \\rightarrow Y \\\\\n",
    "Z &\\rightarrow& Y\n",
    "\\end{eqnarray}\n",
    "$$\n",
    "\n",
    "The idea is that \n",
    "\n",
    "* Z affects selection into the treatment\n",
    "* It also affects Y (so there's confounding)\n",
    "\n",
    "Let's take a linear model as example:\n",
    "\n",
    "$$\n",
    "\\begin{eqnarray}\n",
    "Y_i &=& \\alpha_0 + \\alpha_1 D_i + \\alpha_2 z_i + \\epsilon_i \\\\\n",
    "\\text{Prob}(D_i = 1|z_i) &=& \\text{Prob}(\\beta_0 + \\beta_1 z_i + \\eta_i >=0)\n",
    "\\end{eqnarray}\n",
    "$$\n",
    "\n",
    "The potential outcomes would be:\n",
    "\n",
    "$$\n",
    "\\begin{eqnarray}\n",
    "Y_{0i} &=& \\alpha_0 + \\alpha_2 z_i + \\epsilon_i \\\\\n",
    "Y_{1i} &=& \\alpha_0 + \\alpha_1 + \\alpha_2 z_i + \\epsilon_i \\\\\n",
    "\\end{eqnarray}\n",
    "$$\n",
    "\n",
    "**Note**: this usage of `selection bias` is common in statistics and econometrics.  Judea Pearl and collaborators have a different [definition](https://ftp.cs.ucla.edu/pub/stat_ser/r425.pdf).  See also Ch.9 of Hernan and Robins, _Causal Inference.  What If_ or [here](https://www.hsph.harvard.edu/miguel-hernan/research/structure-of-bias/)."
   ]
  },
  {
   "cell_type": "code",
   "execution_count": 1697,
   "metadata": {},
   "outputs": [],
   "source": [
    "def simulate_confound_simple(nobs, seed, with_confounder):\n",
    "    \"Simulate a simple outcome with a confounder and a binary treatment\"\n",
    "    np.random.seed(seed)\n",
    "    # Z ~ N(10,1)\n",
    "    z = 10 + np.random.randn(nobs)\n",
    "    # Binary treatment: latent variable\n",
    "    preD = 0.5 + -3*z + np.random.randn(nobs)\n",
    "    q80 = np.quantile(preD, 0.8)\n",
    "    D = 1*(preD>=q80)\n",
    "    # Simulate outcome: with/without confounder\n",
    "    if with_confounder:\n",
    "        y = -0.5 + 2*D + 0.8*z + np.random.randn(nobs)\n",
    "    # otherwise z has no direct effect on outcome, only on selection\n",
    "    else:\n",
    "        y = -0.5 + 2*D + np.random.randn(nobs)\n",
    "    # assemble in dataframes\n",
    "    ydf = pd.DataFrame(y, columns = ['y'])\n",
    "    xdf = pd.DataFrame(D, columns = ['D'])  # only D\n",
    "    xdf_c = xdf.copy()\n",
    "    xdf_c['z'] = z    # D and z\n",
    "    \n",
    "    return ydf, xdf, xdf_c"
   ]
  },
  {
   "cell_type": "code",
   "execution_count": 1698,
   "metadata": {},
   "outputs": [],
   "source": [
    "def run_mc_selection(nobs, seed_mc, num_montecarlo):\n",
    "    \"Monte Carlo simulation for selection bias\"\n",
    "    np.random.seed(seed_mc)\n",
    "    seed_arr = np.random.randint(low=1, high=3*num_montecarlo, size = num_montecarlo)\n",
    "    df_results = pd.DataFrame(index=range(num_montecarlo), columns = ['bias_c', 'bias_nc'], dtype='float')\n",
    "    for i in range(num_montecarlo):\n",
    "        # With confounder\n",
    "        y_i, x_i, xc_i = simulate_confound_simple(nobs, seed=seed_arr[i], with_confounder=True)\n",
    "        # Regression without confounder: to get the bias\n",
    "        reg = LinearRegression(fit_intercept=True).fit(x_i, y_i.y)\n",
    "        bias = 2 - reg.coef_[0]\n",
    "        # Without confounder\n",
    "        y_i1, x_i1, xc_i1 = simulate_confound_simple(nobs, seed=seed_arr[i], with_confounder=False)\n",
    "        reg_c = LinearRegression(fit_intercept=True).fit(x_i1, y_i1.y)\n",
    "        bias_c = 2 - reg_c.coef_[0]\n",
    "        df_results.loc[i] = [bias, bias_c]\n",
    "    # compute the mean and conf intervals 95%\n",
    "    pmin, pmax = 0.025, 0.975\n",
    "    mean = df_results.mean()\n",
    "    ci = df_results.quantile([pmin, pmax])\n",
    "    ci.rename(index={pmin: f'q_{100*pmin}', pmax: f'q_{100*pmax}'}, inplace=True)\n",
    "    ci.loc['mean'] = mean.values\n",
    "    return ci    "
   ]
  },
  {
   "cell_type": "code",
   "execution_count": 1699,
   "metadata": {},
   "outputs": [],
   "source": [
    "# Run the MC simulation\n",
    "nobs = 100\n",
    "seed_mc = 10418\n",
    "num_montecarlo = 300\n",
    "mc_conf = run_mc_selection(nobs, seed_mc, num_montecarlo)"
   ]
  },
  {
   "cell_type": "code",
   "execution_count": 1700,
   "metadata": {},
   "outputs": [
    {
     "data": {
      "image/png": "[encoded data removed]",
      "text/plain": [
       "<Figure size 720x288 with 1 Axes>"
      ]
     },
     "metadata": {
      "needs_background": "light"
     },
     "output_type": "display_data"
    }
   ],
   "source": [
    "fig, ax = plt.subplots()\n",
    "mean_mc = mc_conf.loc['mean']\n",
    "yerr = mc_conf.loc[['q_2.5', 'q_97.5']]\n",
    "mean_mc.plot(kind='bar', ax=ax, edgecolor='k', facecolor='0.5')\n",
    "ax.set_xticks([0,1])\n",
    "for c, col in enumerate(yerr.columns):\n",
    "    ax.plot([c,c], yerr[col])\n",
    "ax.set_xticklabels(['Confounder', 'No Confounder'], rotation=0)\n",
    "xmin, xmax = ax.get_xlim()\n",
    "ax.plot([xmin, xmax], [0,0], lw=0.5)\n",
    "ttl = ax.set_title('Selection Bias ATET: Mean and 95% Conf. Intervals', fontsize=20)"
   ]
  },
  {
   "cell_type": "markdown",
   "metadata": {},
   "source": [
    "## Let's look at selection bias\n",
    "\n",
    "Note that this uses the _Potential Outcomes_ notation that can be found in [Mostly Harmless Econometrics](https://www.mostlyharmlesseconometrics.com/)\n",
    "\n",
    "\n",
    "$$\n",
    "E(Y_i | D_i = 1) -  E(Y_i | D_i = 0) = \\underbrace{E(Y_{1i}|D_i=1) - E(Y_{0i}|D_i=1)}_{ATET} + \\underbrace{E(Y_{0i}|D_i=1) - E(Y_{0i}|D_i=0)}_{\\text{Selection Bias}}\n",
    "$$"
   ]
  },
  {
   "cell_type": "code",
   "execution_count": 1701,
   "metadata": {},
   "outputs": [
    {
     "data": {
      "image/png": "[encoded data removed]",
      "text/plain": [
       "<Figure size 828x288 with 2 Axes>"
      ]
     },
     "metadata": {
      "needs_background": "light"
     },
     "output_type": "display_data"
    }
   ],
   "source": [
    "# Plot to explain Positive and Negative Selection Bias\n",
    "fig, ax = plt.subplots(1,2, figsize=(11.5,4))\n",
    "# positive selection\n",
    "ax[0].bar([0], [1])\n",
    "ax[0].bar([1],bottom = 1, height=[1], color='0.5', edgecolor='k')\n",
    "ax[0].bar([2],bottom = 2, height=[0.5], color='0.5', edgecolor='k')\n",
    "ax[0].bar([3],bottom = 0, height=[2.5], color='0.5', edgecolor='k')\n",
    "ax[0].set_xticks(range(5))\n",
    "ax[0].set_xticklabels([r'$D_i=0$', 'ATT', 'Sel.Bias', r'$D_i=1$'])\n",
    "ax[0].set_title('Positive Selection')\n",
    "ax[0].axis([-0.5,3.5, 0,2.6])\n",
    "ax[0].set_yticks([])\n",
    "ax[0].set_yticklabels([])\n",
    "ax[0].annotate('', xy=(1.5, 2.5), xytext=(1.5, 2),\n",
    "            arrowprops=dict(facecolor='black', shrink=0.05))# negative selection\n",
    "ax[1].bar([0], [1])\n",
    "ax[1].bar([1],bottom = 1, height=[1], color='0.5', edgecolor='k')\n",
    "ax[1].bar([2],bottom = 2, height=-0.5, color='0.5', edgecolor='k')\n",
    "ax[1].bar([3],bottom = 0, height=1.5, color='0', edgecolor='k')\n",
    "ax[1].set_xticks(range(5))\n",
    "ax[1].set_xticklabels([r'$D_i=0$', 'ATT', 'Sel.Bias', r'$D_i=1$'])\n",
    "ax[1].set_title('Negative Selection')\n",
    "ax[1].axis([-0.5,3.5, 0,2.1])\n",
    "ax[1].set_yticks([])\n",
    "ax[1].set_yticklabels([])\n",
    "arr = ax[1].annotate('', xy=(1.5, 1.5), xytext=(1.5, 2),\n",
    "            arrowprops=dict(facecolor='black', shrink=0.05))# negative selection\n"
   ]
  },
  {
   "cell_type": "code",
   "execution_count": 1702,
   "metadata": {},
   "outputs": [],
   "source": [
    "def decompose_sel_bias(nobs, seed):\n",
    "    \"Simulate model and compute decomposition\"\n",
    "    np.random.seed(seed)\n",
    "    # Z ~ N(10,1)\n",
    "    z = 10 + np.random.randn(nobs)\n",
    "    # Binary treatment: latent variable\n",
    "    # Who receive the treatment: those with HIGH latent variable values (LOW z's)\n",
    "    preD = 0.5 + -3*z + np.random.randn(nobs)\n",
    "    q80 = np.quantile(preD, 0.8)\n",
    "    bool_D = preD>=q80\n",
    "    D = 1*(bool_D)\n",
    "    # Simulate outcome\n",
    "    noise = np.random.randn(nobs)\n",
    "    y = -0.5 + 2*D + 0.8*z + noise\n",
    "    # get data that we observe and potential outcomes\n",
    "    df = pd.DataFrame(columns = ['Y', 'Y0', 'Y1', 'D'])\n",
    "    df['Y'] = y\n",
    "    df['Y0'] = y\n",
    "    df['Y1'] = y\n",
    "    df['D'] = D\n",
    "    df['Y0'].loc[D==1] = np.nan\n",
    "    df['Y1'].loc[D==0] = np.nan\n",
    "    # Decomposition\n",
    "    lhs = np.mean(y[bool_D]) - np.mean(y[bool_D==False])\n",
    "    y1i_di1 = y[bool_D]\n",
    "    y0i_di1 = (-0.5 + 0*2*D + 0.8*z + noise)[bool_D]  # no treatment, but they should've\n",
    "    y0i_di0 = y[bool_D==False]\n",
    "    atet = np.mean(y1i_di1) - np.mean(y0i_di1)\n",
    "    # selection bias\n",
    "    sel_bias = np.mean(y0i_di1) - np.mean(y0i_di0)\n",
    "    # run a regression without the confounder to show that things match\n",
    "    reg = LinearRegression().fit(D.reshape((nobs,1)),y)\n",
    "    coef_D = reg.coef_[0].round(decimals=3)\n",
    "    print(f'Estimated effect without controlling for confounder = {coef_D}')\n",
    "    print(f'LHS of equation = {lhs.round(decimals=3)}')\n",
    "\n",
    "    return lhs, atet, sel_bias, df"
   ]
  },
  {
   "cell_type": "code",
   "execution_count": 1703,
   "metadata": {},
   "outputs": [
    {
     "name": "stderr",
     "output_type": "stream",
     "text": [
      "/opt/anaconda3/lib/python3.7/site-packages/pandas/core/indexing.py:670: SettingWithCopyWarning: \n",
      "A value is trying to be set on a copy of a slice from a DataFrame\n",
      "\n",
      "See the caveats in the documentation: https://pandas.pydata.org/pandas-docs/stable/user_guide/indexing.html#returning-a-view-versus-a-copy\n",
      "  self._setitem_with_indexer(indexer, value)\n"
     ]
    },
    {
     "name": "stdout",
     "output_type": "stream",
     "text": [
      "Estimated effect without controlling for confounder = 1.114\n",
      "LHS of equation = 1.114\n"
     ]
    },
    {
     "data": {
      "image/png": "[encoded data removed]",
      "text/plain": [
       "<Figure size 720x288 with 1 Axes>"
      ]
     },
     "metadata": {
      "needs_background": "light"
     },
     "output_type": "display_data"
    }
   ],
   "source": [
    "nobs = 100\n",
    "seed = 10417\n",
    "lhs, atet, sel_bias, df = decompose_sel_bias(nobs, seed)\n",
    "\n",
    "fig, ax = plt.subplots()\n",
    "ax.bar(0, lhs)\n",
    "ax.bar(1, bottom=lhs-sel_bias, height=sel_bias, color='0.5', edgecolor='k')\n",
    "ax.bar(2, atet)\n",
    "ax.set_ylim([0,2.05])\n",
    "ax.set_xticks([0,1,2])\n",
    "ax.set_xticklabels(['LHS', 'Selection Bias', 'ATET'])\n",
    "ttl = ax.set_title('Selection Bias Decomposition')"
   ]
  },
  {
   "cell_type": "markdown",
   "metadata": {},
   "source": [
    "## Randomization"
   ]
  },
  {
   "cell_type": "code",
   "execution_count": 1704,
   "metadata": {},
   "outputs": [],
   "source": [
    "def randomize_sample(n_total, frac_treated, seed):\n",
    "    \"Function to find a randomized sample\"\n",
    "    np.random.seed(seed)\n",
    "    unif_draw = np.random.rand(n_total)\n",
    "    bool_treat = unif_draw >= frac_treated\n",
    "        \n",
    "    return bool_treat\n",
    "        "
   ]
  },
  {
   "cell_type": "code",
   "execution_count": 1705,
   "metadata": {},
   "outputs": [
    {
     "name": "stdout",
     "output_type": "stream",
     "text": [
      "% of treated in sample = 10.0%\n"
     ]
    }
   ],
   "source": [
    "test = randomize_sample(n_total=100000, frac_treated=0.9, seed=11)\n",
    "pct_treat = (100*test.mean()).round(decimals=1)\n",
    "print(f'% of treated in sample = {pct_treat}%')"
   ]
  },
  {
   "cell_type": "markdown",
   "metadata": {},
   "source": [
    "## Matching and Propensity Score Matching"
   ]
  },
  {
   "cell_type": "code",
   "execution_count": 1706,
   "metadata": {},
   "outputs": [],
   "source": [
    "# let's simulate some data: \n",
    "# I need x1, x2 two features that drive selection: I want to see the effect of violating CIA (unconfoundedness)\n",
    "# y, D\n",
    "def simulate_selection_bias(nobs, seed, num_xs, true_effect):\n",
    "    \"Simulate selection bias using latent variable for selection mechanism\"\n",
    "    np.random.seed(seed)\n",
    "    # X is multivariate normal with fixed COV and MU\n",
    "    rho = 0.5\n",
    "    preX = simulate_xmatrix_rho(nobs, num_xs, rho, seed)\n",
    "    labels_x = [f'x{i}' for i in range(1,num_xs+1)]\n",
    "    X = pd.DataFrame(preX, columns = labels_x)\n",
    "    X['intercept'] = 1\n",
    "    X = X[['intercept'] + labels_x] # reorder columns to have intercept first\n",
    "    # get random coefficients in the simulation\n",
    "    size_alpha = num_xs + 1\n",
    "    random_alpha_z = np.random.randn(size_alpha).round(decimals=1).reshape((size_alpha,1))\n",
    "    preD = np.dot(X,random_alpha_z) + np.random.randn(nobs,1) # noise ~ N(0,1)\n",
    "    q80 = np.quantile(preD, 0.8)\n",
    "    D = 1*(preD>=q80)\n",
    "    # now model y\n",
    "    K = num_xs + 2 # intercept + D + X\n",
    "    random_alpha_y = np.random.randn(K).round(decimals=1).reshape((K,1))\n",
    "    # Replace true effect\n",
    "    random_alpha_y[-1] = true_effect\n",
    "    augX = X.copy()\n",
    "    augX['D'] = D\n",
    "    prey = np.dot(augX, random_alpha_y) + np.random.randn(nobs,1)  # noise ~ N(0,1)\n",
    "    y = pd.DataFrame(prey, index = X.index)\n",
    "    # drop intercepts as these are not needed for estimation\n",
    "    X.drop(columns=['intercept'], inplace=True)\n",
    "    augX.drop(columns=['intercept'], inplace=True)\n",
    "    # store everything in a dict\n",
    "    dict_simu = {}\n",
    "    dict_simu['y'] = y\n",
    "    dict_simu['X'] = X\n",
    "    dict_simu['D'] = pd.Series(D.flatten(), index=X.index)\n",
    "    dict_simu['augX'] = augX\n",
    "    dict_simu['params_y'] = random_alpha_y.flatten()\n",
    "    dict_simu['params_latent'] = random_alpha_z.flatten()\n",
    "    return dict_simu"
   ]
  },
  {
   "cell_type": "code",
   "execution_count": 1707,
   "metadata": {},
   "outputs": [
    {
     "data": {
      "text/html": [
       "<div>\n",
       "<style scoped>\n",
       "    .dataframe tbody tr th:only-of-type {\n",
       "        vertical-align: middle;\n",
       "    }\n",
       "\n",
       "    .dataframe tbody tr th {\n",
       "        vertical-align: top;\n",
       "    }\n",
       "\n",
       "    .dataframe thead th {\n",
       "        text-align: right;\n",
       "    }\n",
       "</style>\n",
       "<table border=\"1\" class=\"dataframe\">\n",
       "  <thead>\n",
       "    <tr style=\"text-align: right;\">\n",
       "      <th></th>\n",
       "      <th>x1</th>\n",
       "      <th>x2</th>\n",
       "      <th>D</th>\n",
       "    </tr>\n",
       "  </thead>\n",
       "  <tbody>\n",
       "    <tr>\n",
       "      <th>x1</th>\n",
       "      <td>0.938006</td>\n",
       "      <td>0.454704</td>\n",
       "      <td>-0.166194</td>\n",
       "    </tr>\n",
       "    <tr>\n",
       "      <th>x2</th>\n",
       "      <td>0.454704</td>\n",
       "      <td>1.033584</td>\n",
       "      <td>0.083192</td>\n",
       "    </tr>\n",
       "    <tr>\n",
       "      <th>D</th>\n",
       "      <td>-0.166194</td>\n",
       "      <td>0.083192</td>\n",
       "      <td>0.160160</td>\n",
       "    </tr>\n",
       "  </tbody>\n",
       "</table>\n",
       "</div>"
      ],
      "text/plain": [
       "          x1        x2         D\n",
       "x1  0.938006  0.454704 -0.166194\n",
       "x2  0.454704  1.033584  0.083192\n",
       "D  -0.166194  0.083192  0.160160"
      ]
     },
     "execution_count": 1707,
     "metadata": {},
     "output_type": "execute_result"
    }
   ],
   "source": [
    "nobs = 1000\n",
    "seed = 42616\n",
    "num_xs = 2\n",
    "true_effect = 2  # you can play with this parameter in your simulations\n",
    "dict_sel_bias = simulate_selection_bias(nobs, seed, num_xs=2, true_effect = true_effect)\n",
    "assert dict_sel_bias['params_y'][-1] == true_effect  # check that the coefficient of D on Y is -2\n",
    "dict_sel_bias['augX'].cov()"
   ]
  },
  {
   "cell_type": "code",
   "execution_count": 1708,
   "metadata": {},
   "outputs": [],
   "source": [
    "def match_on_prop_score(x_i, x_j, model):\n",
    "    return None\n",
    "\n",
    "\n",
    "def match_unit_i(x_i, X_u, size_control):\n",
    "    \"Match using Euclidean distance\"\n",
    "    # use broadcasting to calculate distances\n",
    "    # note that sqrt is not needed (it's a monotonic transformation)\n",
    "    if isinstance(X_u, pd.DataFrame):\n",
    "        cols = X_u.columns\n",
    "    else:\n",
    "        _,nc = X_u.shape\n",
    "        cols = [f'x{i}' for i in range(nc)]\n",
    "    distance = np.power(x_i - X_u, 2)\n",
    "    distance_df = pd.DataFrame(distance, columns = cols)\n",
    "    distance_df['sum'] = distance_df.sum(axis=1)\n",
    "    distance_sorted = distance_df.sort_values(by='sum', ascending=True)\n",
    "    distance_sorted.drop_duplicates(inplace=True)\n",
    "    group_i = list(distance_sorted.index[:size_control])\n",
    "    \n",
    "    return group_i, distance_sorted\n",
    "\n",
    "def match_all_units_dep(X_t,X_u,y_t, y_u, size_control):\n",
    "    \"\"\"\n",
    "    Given Xs, Ys, loop overall units\n",
    "    Deprecated: works well without duplicates, but for bootstrapping I end up with dups\n",
    "    \"\"\"\n",
    "    # find treated and start loop\n",
    "    ix_treated = X_t.index\n",
    "    df_delta = pd.DataFrame(index=ix_treated, columns = ['control','y1','y0', 'delta'])\n",
    "    for i,ix in enumerate(ix_treated):\n",
    "        x_i, y_i = X_t.loc[ix], y_t.y.loc[ix]\n",
    "        gi,_ = match_unit_i(x_i, X_u, size_control)\n",
    "        y0_i = y_u.y.loc[gi].mean()\n",
    "        delta_i = y_i - y0_i\n",
    "        df_delta.loc[ix] = [gi, y_i, y0_i, delta_i]\n",
    "    df_delta.drop_duplicates(inplace=True)\n",
    "    return df_delta\n",
    "\n",
    "def match_all_units(X_t,X_u,y_t, y_u, size_control):\n",
    "    \"\"\"\n",
    "    Given Xs, Ys, loop overall units\n",
    "    Introduced some changes to handle duplicates (bootstrapping)\n",
    "    \"\"\"\n",
    "    # find treated and start loop\n",
    "    # For bootstrapping I have to take care of duplicates\n",
    "    ix_treated = X_t.index\n",
    "    counts_ix = ix_treated.value_counts()\n",
    "    df_delta = pd.DataFrame(index=ix_treated, columns = ['control','y1','y0', 'delta'])\n",
    "    y_t = y_t[~y_t.index.duplicated(keep='first')]\n",
    "    for i,ix in enumerate(ix_treated):\n",
    "        n_reps = counts_ix.loc[ix]\n",
    "        x_i, y_i = X_t.loc[ix], y_t.y.loc[ix]\n",
    "        gi,_ = match_unit_i(x_i, X_u, size_control)\n",
    "        y0_i = y_u.y.loc[gi].mean()\n",
    "        delta_i = y_i - y0_i\n",
    "        if n_reps>1:\n",
    "            df_delta.loc[ix] = np.tile(np.array([gi, y_i, y0_i, delta_i]), (n_reps,1))\n",
    "        else:\n",
    "            df_delta.loc[ix] = [gi, y_i, y0_i, delta_i]\n",
    "    return df_delta\n",
    "\n",
    "def compute_matching_estimator(X,y,D, size_control=1):\n",
    "    \"Function to compute matching estimator\"\n",
    "    y.rename(columns={y.columns[0]:'y'}, inplace=True)\n",
    "    treated = D == 1\n",
    "    untreated = treated==False\n",
    "    X_t = X[treated]\n",
    "    y_t = y[treated]\n",
    "    X_u = X[untreated]\n",
    "    y_u = y[untreated]\n",
    "    df_delta = match_all_units(X_t, X_u, y_t, y_u, size_control)\n",
    "    att = df_delta.delta.mean()\n",
    "    return att, df_delta"
   ]
  },
  {
   "cell_type": "code",
   "execution_count": 1709,
   "metadata": {},
   "outputs": [],
   "source": [
    "def top_k_columns(df, k):\n",
    "    \"Find best matches (columns) for each unit in the rows\"\n",
    "    return df.apply(lambda x: x.nsmallest(k).index.tolist(), axis=1)"
   ]
  },
  {
   "cell_type": "code",
   "execution_count": 1710,
   "metadata": {},
   "outputs": [],
   "source": [
    "def match_all_units_broadcast(X_t,X_u,y_t, y_u, size_control):\n",
    "    \"\"\"\n",
    "    Given Xs, Ys, loop overall units\n",
    "    Introduced some changes to handle duplicates (bootstrapping)\n",
    "    This version uses broadcasting to make it faster\n",
    "    \"\"\"\n",
    "    # compute distance using broadcasting\n",
    "    diff = D = X_t.values[:, np.newaxis] - X_u.values\n",
    "    predist = np.sum(diff**2, axis=2)\n",
    "    distance = pd.DataFrame(predist, index=X_t.index, columns=X_u.index)\n",
    "    matches = top_k_columns(df=distance, k=size_control)\n",
    "    y0 = matches.apply(lambda x: y_u.loc[x].mean())\n",
    "    delta = y_t - y0\n",
    "    # arrange everything in a dataframe\n",
    "    df_delta = pd.DataFrame(matches, columns = ['control'])\n",
    "    df_delta['y1'] = y_t\n",
    "    df_delta['y0'] = y0\n",
    "    df_delta['delta'] = delta\n",
    "    return df_delta\n",
    "\n",
    "def compute_matching_estimator_bcast(X,y,D, size_control=1):\n",
    "    \"Function to compute matching estimator: uses broadcasting\"\n",
    "    y.rename(columns={y.columns[0]:'y'}, inplace=True)\n",
    "    treated = D == 1\n",
    "    untreated = treated==False\n",
    "    X_t = X[treated]\n",
    "    y_t = y[treated]\n",
    "    X_u = X[untreated]\n",
    "    y_u = y[untreated]\n",
    "    df_delta = match_all_units_broadcast(X_t, X_u, y_t, y_u, size_control)\n",
    "    att = df_delta.delta.mean()\n",
    "    return att, df_delta"
   ]
  },
  {
   "cell_type": "code",
   "execution_count": 1711,
   "metadata": {},
   "outputs": [],
   "source": [
    "# now estimate Propensity Score Matching\n",
    "def estimate_prop_score(X,D, algorithm):\n",
    "    \"\"\"Return the probability scores trained on D = f(X)\n",
    "    method: any classifier in scikit-learn that has predict_proba\n",
    "    For GBC: uses default settings, but you can easily customize it\n",
    "    \"\"\"\n",
    "    mod = algorithm.fit(X=X, y=D)\n",
    "    scores = mod.predict_proba(X)[:,1]\n",
    "    # split scores to use previous functions\n",
    "    ix_treated = X[D==1].index\n",
    "    ix_untreat = X[D==0].index\n",
    "    scores_t = pd.DataFrame(scores[D==1], columns=['score'], index=ix_treated)\n",
    "    scores_u = pd.DataFrame(scores[D==0], columns=['score'], index=ix_untreat)\n",
    "    return scores_t, scores_u, scores\n",
    "\n",
    "def compute_prop_match_bcast(X,y,D, algorithm=GradientBoostingClassifier(), size_control=1):\n",
    "    \"Function to compute matching estimator: uses broadcasting\"\n",
    "    y.rename(columns={y.columns[0]:'y'}, inplace=True)\n",
    "    # 1. Get propensity scores\n",
    "    scores_t, scores_u,_ = estimate_prop_score(X,D, algorithm)\n",
    "    # 2. Assign groups\n",
    "    treated = D == 1\n",
    "    untreated = treated==False\n",
    "    X_t = scores_t\n",
    "    y_t = y[treated]\n",
    "    X_u = scores_u\n",
    "    y_u = y[untreated]\n",
    "    # 3. Rest is the same\n",
    "    df_delta = match_all_units_broadcast(X_t, X_u, y_t, y_u, size_control)\n",
    "    att = df_delta.delta.mean()\n",
    "    return att, df_delta"
   ]
  },
  {
   "cell_type": "code",
   "execution_count": 1712,
   "metadata": {},
   "outputs": [],
   "source": [
    "def change_type(df,mytype):\n",
    "    \"helper function for tests\"\n",
    "    dfnew = df.copy()\n",
    "    for c, col in enumerate(df.columns):\n",
    "        try:\n",
    "            dfnew[col] = dfnew[col].astype(mytype)\n",
    "        except ValueError:\n",
    "            a = 1\n",
    "            \n",
    "    return dfnew"
   ]
  },
  {
   "cell_type": "code",
   "execution_count": 1713,
   "metadata": {},
   "outputs": [],
   "source": [
    "# testing the functions\n",
    "# match_unit_i: best is 0 (the same)\n",
    "x_i = np.array([1,0])\n",
    "X_u = np.array([[1,0],[0,1],[0.5,0.5]])\n",
    "test_mi,_ = match_unit_i(x_i, X_u, size_control=1)\n",
    "assert test_mi==[0]\n",
    "\n",
    "# match_all_units\n",
    "cols = ['x1','x2','x3']\n",
    "X_t = pd.DataFrame(np.array([[0,0,0],[0,1,0],[0,0,1],[1,1,0],[1,0,1]]), columns=cols, index=range(5))\n",
    "X_u = X_t.copy()  # for testing: use a copy, so the match should always be itself\n",
    "X_u.set_index(np.arange(5,10), inplace=True)\n",
    "y_t = pd.DataFrame(np.array([1]*X_t.shape[0]), columns=['y'], index=range(5))\n",
    "y_u = pd.DataFrame(np.array([2]*X_t.shape[0]), columns=['y'], index=np.arange(5,10))\n",
    "matched_gi = [[5],[6],[7],[8],[9]]\n",
    "test_mau = match_all_units(X_t,X_u,y_t, y_u, size_control=1)\n",
    "assert list(test_mau.control) == matched_gi\n",
    "\n",
    "# compare match_all_units and match_all_units_broadcast\n",
    "test_maub = match_all_units_broadcast(X_t,X_u,y_t, y_u, size_control=1)\n",
    "test_maub = change_type(df=test_maub,mytype=int)\n",
    "assert np.all(test_mau == test_maub)\n",
    "\n",
    "# compute matching estimator: with the previous dataset: ATT = -1\n",
    "X = pd.concat((X_t, X_u), axis = 0)\n",
    "X.reset_index(inplace=True)\n",
    "y = pd.DataFrame(np.concatenate((y_t, y_u), axis=0))\n",
    "D = np.array([1]*5 + [0]*5)\n",
    "att, _ = compute_matching_estimator(X,y,D)\n",
    "assert -1 == att\n"
   ]
  },
  {
   "cell_type": "code",
   "execution_count": 1714,
   "metadata": {},
   "outputs": [],
   "source": [
    "# let's run the matching estimator un the simulated dataset\n",
    "y = dict_sel_bias['y']\n",
    "D = dict_sel_bias['D']\n",
    "X = dict_sel_bias['X']"
   ]
  },
  {
   "cell_type": "code",
   "execution_count": 1715,
   "metadata": {},
   "outputs": [
    {
     "name": "stdout",
     "output_type": "stream",
     "text": [
      "Estimated Average Treatment Effect on the Treated = 2.1462\n",
      "True ATT = 2\n"
     ]
    }
   ],
   "source": [
    "decimals=4\n",
    "att_simu1, df_simu = compute_matching_estimator(X,y,D, size_control=1)\n",
    "print(f'Estimated Average Treatment Effect on the Treated = {att_simu1.round(decimals=decimals)}')\n",
    "print(f'True ATT = {true_effect}')"
   ]
  },
  {
   "cell_type": "code",
   "execution_count": 1716,
   "metadata": {},
   "outputs": [
    {
     "name": "stdout",
     "output_type": "stream",
     "text": [
      "Estimated Average Treatment Effect on the Treated (broadcasting)= 2.1462\n",
      "True ATT = 2\n"
     ]
    }
   ],
   "source": [
    "att_simu2, df_simu2 = compute_matching_estimator_bcast(X,y,D, size_control=1)\n",
    "att_simu2 = np.around(att_simu2, decimals=decimals)\n",
    "print(f'Estimated Average Treatment Effect on the Treated (broadcasting)= {att_simu2}')\n",
    "print(f'True ATT = {true_effect}')"
   ]
  },
  {
   "cell_type": "markdown",
   "metadata": {},
   "source": [
    "#### Note how broadcasting improved the efficiency of the matching estimator"
   ]
  },
  {
   "cell_type": "code",
   "execution_count": 1717,
   "metadata": {},
   "outputs": [
    {
     "name": "stdout",
     "output_type": "stream",
     "text": [
      "1.94 s ± 245 ms per loop (mean ± std. dev. of 7 runs, 1 loop each)\n"
     ]
    }
   ],
   "source": [
    "%%timeit\n",
    "att_simu1, df_simu = compute_matching_estimator(X,y,D, size_control=1)"
   ]
  },
  {
   "cell_type": "code",
   "execution_count": 1718,
   "metadata": {},
   "outputs": [
    {
     "name": "stdout",
     "output_type": "stream",
     "text": [
      "577 ms ± 71.1 ms per loop (mean ± std. dev. of 7 runs, 1 loop each)\n"
     ]
    }
   ],
   "source": [
    "%%timeit\n",
    "att_simu2, df_simu2 = compute_matching_estimator_bcast(X,y,D, size_control=1)"
   ]
  },
  {
   "cell_type": "code",
   "execution_count": 1719,
   "metadata": {},
   "outputs": [],
   "source": [
    "# Estimate confidence intervals using Bootstrapping\n",
    "B = 300\n",
    "boot_att = pd.DataFrame(index=range(B), columns = ['att'], dtype='float')\n",
    "for b in range(B):\n",
    "    # sample with replacement (note: this creates some duplicates)\n",
    "    ix_b = np.random.choice(y.index, size = y.shape[0], replace=True)\n",
    "    y_b, X_b, D_b = y.loc[ix_b], X.loc[ix_b], D[ix_b]\n",
    "    att_b, _ = compute_matching_estimator_bcast(X_b,y_b,D_b, size_control=1)\n",
    "    boot_att.att.loc[b] = att_b\n",
    "\n",
    "mean_boot = boot_att.att.mean()\n",
    "qtle_boot = boot_att.quantile([0.025, 0.975])"
   ]
  },
  {
   "cell_type": "code",
   "execution_count": 1720,
   "metadata": {},
   "outputs": [
    {
     "data": {
      "text/plain": [
       "Text(0.1, 2, '-- True Effect')"
      ]
     },
     "execution_count": 1720,
     "metadata": {},
     "output_type": "execute_result"
    },
    {
     "data": {
      "image/png": "[encoded data removed]",
      "text/plain": [
       "<Figure size 720x288 with 1 Axes>"
      ]
     },
     "metadata": {
      "needs_background": "light"
     },
     "output_type": "display_data"
    }
   ],
   "source": [
    "fig, ax = plt.subplots()\n",
    "ax.bar([1], mean_boot, color='0.5', edgecolor='k')\n",
    "ax.plot([1,1], qtle_boot)\n",
    "ax.set_xlim([0,2])\n",
    "ax.set_title('Matching Estimate for Simulated Data (95% CI)')\n",
    "ax.set_xticks([1])\n",
    "ax.set_xticklabels(['ATT'])\n",
    "ax.plot([0,2],[true_effect, true_effect], ls='--')\n",
    "ax.text(0.1,2,'-- True Effect', verticalalignment='bottom', horizontalalignment='left')"
   ]
  },
  {
   "cell_type": "code",
   "execution_count": 1721,
   "metadata": {},
   "outputs": [],
   "source": [
    "# let's estimate the impact of using larger control groups\n",
    "ctr_grid = [1,2,3]\n",
    "B = 100\n",
    "boot_att1 = pd.DataFrame(index=range(B), columns = ctr_grid, dtype='float')\n",
    "for c in ctr_grid:\n",
    "    for b in range(B):\n",
    "        # sample with replacement (note: this creates some duplicates)\n",
    "        ix_b = np.random.choice(y.index, size = y.shape[0], replace=True)\n",
    "        y_b, X_b, D_b = y.loc[ix_b], X.loc[ix_b], D[ix_b]\n",
    "        att_b, _ = compute_matching_estimator_bcast(X_b,y_b,D_b, size_control=c)\n",
    "        boot_att1[c].loc[b] = att_b"
   ]
  },
  {
   "cell_type": "code",
   "execution_count": 1722,
   "metadata": {},
   "outputs": [],
   "source": [
    "mean_boot1 = boot_att1.mean()\n",
    "qtle_boot1 = boot_att1.quantile([0.025, 0.975])   "
   ]
  },
  {
   "cell_type": "code",
   "execution_count": 1723,
   "metadata": {},
   "outputs": [
    {
     "data": {
      "text/plain": [
       "Text(0.5, 0, 'Number of units in control group ($m$)')"
      ]
     },
     "execution_count": 1723,
     "metadata": {},
     "output_type": "execute_result"
    },
    {
     "data": {
      "image/png": "[encoded data removed]",
      "text/plain": [
       "<Figure size 720x288 with 1 Axes>"
      ]
     },
     "metadata": {
      "needs_background": "light"
     },
     "output_type": "display_data"
    }
   ],
   "source": [
    "fig, ax = plt.subplots()\n",
    "mean_boot1.plot(kind='bar', ax=ax, color='0.5', edgecolor='k')\n",
    "cols_qtle = qtle_boot1.columns.values\n",
    "xtk = ax.set_xticks([0,1,2])\n",
    "for c,col in enumerate(cols_qtle):\n",
    "    ax.plot([c,c], qtle_boot1[col])\n",
    "ax.set_xlim([-0.5,2.5])\n",
    "ax.set_xticklabels(cols_qtle, rotation=0)\n",
    "ax.set_xlabel(r'Number of units in control group ($m$)')\n",
    "#ax.set_title('ATT for Matching Simulation')"
   ]
  },
  {
   "cell_type": "markdown",
   "metadata": {},
   "source": [
    "### Now propensity score matching"
   ]
  },
  {
   "cell_type": "code",
   "execution_count": 1724,
   "metadata": {},
   "outputs": [
    {
     "name": "stdout",
     "output_type": "stream",
     "text": [
      "ATT from Prop. Score = 1.47\n"
     ]
    }
   ],
   "source": [
    "ps_att, df_ps = compute_prop_match_bcast(X,y,D, size_control=3)\n",
    "print(f'ATT from Prop. Score = {np.around(ps_att,decimals=2)}')"
   ]
  },
  {
   "cell_type": "code",
   "execution_count": 1725,
   "metadata": {},
   "outputs": [],
   "source": [
    "# let's estimate the impact of using larger control groups\n",
    "# I want to get Gradient Boosting and Logistic Regression estimates\n",
    "ctr_grid = range(1,5)\n",
    "B = 100\n",
    "boot_att_ps_gb = pd.DataFrame(index=range(B), columns = ctr_grid, dtype='float')\n",
    "boot_att_ps_log = pd.DataFrame(index=range(B), columns = ctr_grid, dtype='float')\n",
    "for c in ctr_grid:\n",
    "    for b in range(B):\n",
    "        # sample with replacement (note: this creates some duplicates)\n",
    "        ix_b = np.random.choice(y.index, size = y.shape[0], replace=True)\n",
    "        y_b, X_b, D_b = y.loc[ix_b], X.loc[ix_b], D[ix_b]\n",
    "        att_gb, _ = compute_prop_match_bcast(X_b,y_b,D_b, size_control=c, algorithm=GradientBoostingClassifier())\n",
    "        att_lo, _ = compute_prop_match_bcast(X_b,y_b,D_b, size_control=c, algorithm=LogisticRegression())\n",
    "        boot_att_ps_gb[c].loc[b] = att_gb\n",
    "        boot_att_ps_log[c].loc[b] = att_lo"
   ]
  },
  {
   "cell_type": "code",
   "execution_count": 1726,
   "metadata": {},
   "outputs": [
    {
     "data": {
      "image/png": "[encoded data removed]",
      "text/plain": [
       "<Figure size 1440x360 with 3 Axes>"
      ]
     },
     "metadata": {
      "needs_background": "light"
     },
     "output_type": "display_data"
    }
   ],
   "source": [
    "dict_ps = {0:boot_att1, 1:boot_att_ps_gb, 2:boot_att_ps_log}\n",
    "fig, ax = plt.subplots(1,3, figsize=(20,5), sharey=True)\n",
    "dict_ttl = {0:'ATT: Matching', 1: 'ATT: Prop. Score (GBC)', 2: 'ATT: Prop. Score (Logistic)'}\n",
    "for i in range(3):\n",
    "    df_i = dict_ps[i]\n",
    "    mean_i = df_i.mean()\n",
    "    qtle_i = df_i.quantile([0.025, 0.975])\n",
    "    cols_qtle = qtle_i.columns.values\n",
    "    if i>0:\n",
    "        mean_i = mean_i[cols_qtle[:-1]]\n",
    "        qtle_i = qtle_i[cols_qtle[:-1]]\n",
    "        cols_qtle = qtle_i.columns.values\n",
    "    # plot\n",
    "    mean_i.plot(kind='bar', ax=ax[i], color='0.5', edgecolor='k')\n",
    "    #xtk = ax[i].set_xticks(cols_qtle)\n",
    "    for c,col in enumerate(cols_qtle):\n",
    "        ax[i].plot([c,c], qtle_i[col])\n",
    "    ax[i].set_xlim([-0.5,2.5])\n",
    "    ax[i].set_xticklabels(cols_qtle, rotation=0)\n",
    "    ax[i].set_xlabel(r'Size control ($m$)')    \n",
    "    ax[i].set_title(dict_ttl[i], fontsize=22)\n",
    "    xmin, xmax = ax[i].get_xlim()\n",
    "    ax[i].plot([xmin, xmax], [true_effect, true_effect], ls='--')\n",
    "    if i==1:\n",
    "        ax[i].text(1.5,2.8, '--- True Effect', fontsize=20, horizontalalignment='center', \n",
    "                  verticalalignment='bottom')"
   ]
  },
  {
   "cell_type": "markdown",
   "metadata": {},
   "source": [
    "### Horvitz and Thompson (1952) type estimators\n",
    "\n",
    "As shown in Angrist and Pischke, (https://press.princeton.edu/books/paperback/9780691120355/mostly-harmless-econometrics) _Mostly Harmless Econometrics: An Empiricist's Companion_, under unconfoundedness, there's an estimand that you can use and avoids the computational complexity of the matching estimators.\n",
    "\n",
    "**ATE**:\n",
    "$$\n",
    "    E(Y_{1i} - Y_{0i}) = E\\left(\\frac{(D_i - p(X_i))Y_i}{p(X_i)(1-p(X_i))}\\right)\n",
    "$$\n",
    "\n",
    "**ATT**:\n",
    "$$\n",
    "    E(Y_{1i} - Y_{0i}|D_i=1) = E\\left(\\frac{(D_i - p(X_i))Y_i}{P(D_i=1)(1-p(X_i))}\\right)\n",
    "$$\n"
   ]
  },
  {
   "cell_type": "code",
   "execution_count": 1727,
   "metadata": {},
   "outputs": [],
   "source": [
    "def compute_ht_estimators(X,y,D, algorithm=LogisticRegression()):\n",
    "    \"Estimate the ATE and ATT via Horvitz-Thompson type estimators\"\n",
    "    _,_, scores = estimate_prop_score(X,D, algorithm)\n",
    "    scores = pd.Series(scores, name = 'score', index = X.index)\n",
    "    # ATE\n",
    "    numerator = (D - scores)*y.y\n",
    "    denominator = scores*(1-scores)\n",
    "    pre_ate = numerator/denominator\n",
    "    ate = pre_ate.mean()\n",
    "    # ATT\n",
    "    # the only difference is that I use the unconditional probability\n",
    "    unc_prob = D.mean()  # sample probability\n",
    "    denom_att = unc_prob*(1-scores)\n",
    "    pre_att = numerator/denom_att\n",
    "    att = pre_att.mean()\n",
    "    \n",
    "    return ate, att"
   ]
  },
  {
   "cell_type": "code",
   "execution_count": 1728,
   "metadata": {},
   "outputs": [
    {
     "name": "stdout",
     "output_type": "stream",
     "text": [
      "Horvitz-Thompson: ATE = 1.3868257787650988, ATT = 2.2857809561052083\n"
     ]
    }
   ],
   "source": [
    "ate_ht, att_ht = compute_ht_estimators(X,y,D)\n",
    "print(f'Horvitz-Thompson: ATE = {ate_ht}, ATT = {att_ht}')"
   ]
  },
  {
   "cell_type": "markdown",
   "metadata": {},
   "source": [
    "## Finally, simulate a model, but exclude one variable\n",
    "\n",
    "* This should serve as a cautionary tale that you should always think hard about **selection on observables**"
   ]
  },
  {
   "cell_type": "code",
   "execution_count": 1729,
   "metadata": {},
   "outputs": [],
   "source": [
    "def simulate_cia_violation(nobs, nvars, nvars_exc, seed, true_effect):\n",
    "    \"Simulate a violation of unconfoundedness or Conditional Independence Assumption\"\n",
    "    #1. Simulate a model\n",
    "    dict_simu = simulate_selection_bias(nobs, seed, num_xs=nvars, true_effect=true_effect)\n",
    "    y = dict_simu['y']\n",
    "    D = dict_simu['D']\n",
    "    X = dict_simu['X']\n",
    "    coly = y.columns[0]\n",
    "    y.rename(columns={coly:'y'}, inplace=True)\n",
    "    # 2. Exclude some variables\n",
    "    cols = X.columns\n",
    "    n_inc_vars = nvars - nvars_exc\n",
    "    cols_inc = cols[:n_inc_vars]\n",
    "    Xnew = X[cols_inc]\n",
    "    # 3. Do matching violating Selection On Observables (you observe only the included features)\n",
    "    att_ma, _ = compute_matching_estimator_bcast(Xnew,y,D, size_control=1)\n",
    "    ate_ht, att_ht = compute_ht_estimators(Xnew,y,D)\n",
    "    \n",
    "    return att_ma, ate_ht, att_ht"
   ]
  },
  {
   "cell_type": "code",
   "execution_count": 1730,
   "metadata": {},
   "outputs": [],
   "source": [
    "# let's generate a large model and keep excluding\n",
    "true_effect = -3\n",
    "nvars = 5\n",
    "grid_exc = range(0,nvars)\n",
    "nobs = 1000\n",
    "seed = 12898\n",
    "df_cia = pd.DataFrame(index = grid_exc, columns = ['att','ate_ht', 'att_ht'], dtype=float)\n",
    "for g,gr in enumerate(grid_exc):\n",
    "    att_ma_g, ate_ht_g, att_ht_g = simulate_cia_violation(nobs, nvars, nvars_exc=gr, seed=seed, \n",
    "                                                          true_effect=true_effect)\n",
    "    df_cia.loc[gr] = [att_ma_g, ate_ht_g, att_ht_g]"
   ]
  },
  {
   "cell_type": "code",
   "execution_count": 1731,
   "metadata": {},
   "outputs": [
    {
     "data": {
      "text/plain": [
       "Text(0.5, 0, 'Number of Unobserved Variables (out of 5)')"
      ]
     },
     "execution_count": 1731,
     "metadata": {},
     "output_type": "execute_result"
    },
    {
     "data": {
      "image/png": "[encoded data removed]",
      "text/plain": [
       "<Figure size 720x288 with 1 Axes>"
      ]
     },
     "metadata": {
      "needs_background": "light"
     },
     "output_type": "display_data"
    }
   ],
   "source": [
    "fig, ax = plt.subplots()\n",
    "df_cia.plot(ax=ax, color = ['k', 'r','b'])\n",
    "xmin, xmax = ax.get_xlim()\n",
    "ax.plot([xmin, xmax], [true_effect, true_effect], ls='--')\n",
    "xt = ax.set_xticks(df_cia.index)\n",
    "ax.set_title(r'Causal Effect: $k$ unobserved variables ')\n",
    "ax.set_xlabel(f'Number of Unobserved Variables (out of {nvars})')"
   ]
  },
  {
   "cell_type": "markdown",
   "metadata": {},
   "source": [
    "## figure for discussion of uplift modeling"
   ]
  },
  {
   "cell_type": "code",
   "execution_count": 1732,
   "metadata": {},
   "outputs": [
    {
     "data": {
      "text/plain": [
       "Text(0.5, 0, 'Probability Scores')"
      ]
     },
     "execution_count": 1732,
     "metadata": {},
     "output_type": "execute_result"
    },
    {
     "data": {
      "image/png": "[encoded data removed]",
      "text/plain": [
       "<Figure size 936x288 with 1 Axes>"
      ]
     },
     "metadata": {},
     "output_type": "display_data"
    }
   ],
   "source": [
    "nobs = 1000\n",
    "seed = 30218\n",
    "gamma_draws = np.random.gamma(shape=3.0, scale=1, size=nobs)\n",
    "density = gaussian_kde(gamma_draws)\n",
    "gridx = np.linspace(gamma_draws.min(),gamma_draws.max(),300).flatten()\n",
    "density.covariance_factor = lambda : 0.5\n",
    "density._compute_covariance()\n",
    "y_kde = density(gridx)\n",
    "fig, ax = plt.subplots(figsize=(13,4))\n",
    "ax.plot(gridx,y_kde)\n",
    "ax.set_title('Estimated Scores Distribution')\n",
    "ax.set_yticklabels([])\n",
    "ax.set_yticks([])\n",
    "G = 50\n",
    "# plot those that will purchase organically: group A\n",
    "thresh = np.quantile(gridx, 0.55)\n",
    "ax.fill_between(gridx, y_kde, where = gridx >= thresh, color='0.95')\n",
    "ax.plot([thresh, thresh],[0,density(thresh)], ls='--')\n",
    "ax.annotate('A', xy=(0.7, 0.1), xycoords=ax.transAxes,\n",
    "            xytext=(0.7, 0.5), textcoords=ax.transAxes, va='center', ha='center',\n",
    "            arrowprops=dict(facecolor='black', shrink=0., width = 0.1, headwidth = 5),\n",
    "            fontsize=18)\n",
    "# next group\n",
    "thresh1 = np.quantile(gridx, 0.3)\n",
    "bool_x = np.logical_and(gridx >=thresh1, gridx <= thresh)\n",
    "ax.fill_between(gridx, y_kde, where = bool_x, color='0.8')\n",
    "ax.plot([thresh1, thresh1],[0,density(thresh1)], ls='--')\n",
    "ax.text(0.4,0.2, 'B', transform = ax.transAxes, fontsize=18, weight='bold')\n",
    "# final group\n",
    "ax.text(0.2,0.2, 'C', transform = ax.transAxes, fontsize=18, weight='bold')\n",
    "ax.fill_between(gridx, y_kde, where = gridx < thresh1, color='0.6')\n",
    "# change xticks\n",
    "ax.set_xticks([])\n",
    "xtl = ax.set_xticklabels([])\n",
    "ymin, ymax = ax.get_ylim()\n",
    "xmin, xmax = ax.get_xlim()\n",
    "ax.set_ylim([0,ymax])\n",
    "ax.set_xlim([0,xmax])\n",
    "ax.set_xlabel('Probability Scores')\n"
   ]
  },
  {
   "cell_type": "markdown",
   "metadata": {},
   "source": [
    "## Double Machine Learning\n",
    "\n",
    "The model is like this:\n",
    "\n",
    "$$\n",
    "\\begin{eqnarray}\n",
    "y &=& \\theta_0 D + g_0(X) + u \\\\\n",
    "D &=& m_0(X) + v\n",
    "\\end{eqnarray}\n",
    "$$"
   ]
  },
  {
   "cell_type": "code",
   "execution_count": 1733,
   "metadata": {},
   "outputs": [],
   "source": [
    "def estimate_dml_subsample(X,y,D,ix_sample, D_is_binary):\n",
    "    # fix samples first\n",
    "    Xs = X.loc[ix_sample]\n",
    "    ys = y.loc[ix_sample].values.flatten()\n",
    "    Ds = D.loc[ix_sample]\n",
    "    # other\n",
    "    ix_other = list(set(X.index) - set(ix_sample))\n",
    "    Xo = X.loc[ix_other]\n",
    "    yo = y.loc[ix_other].values.flatten()\n",
    "    Do = D.loc[ix_other]\n",
    "    # estimate models and residuals using first sample\n",
    "    mod_y = GradientBoostingRegressor().fit(Xs,ys)\n",
    "    # 2. Use ML to estimate \\hat{E(D|x)}\n",
    "    if D_is_binary:\n",
    "        mod_d = GradientBoostingClassifier().fit(Xs,Ds)\n",
    "    else:\n",
    "        mod_d = GradientBoostingRegressor().fit(Xs,Ds)\n",
    "    # 3. Get residuals using second sample\n",
    "    u_hat = yo - mod_y.predict(Xo)\n",
    "    if D_is_binary:\n",
    "        v_hat = Do - mod_d.predict_proba(Xo)[:,1]\n",
    "    else:\n",
    "        v_hat = Do - mod_d.predict(Xo)\n",
    "    # Evaluate on remaining sample\n",
    "    nobs_o = len(yo)\n",
    "    num = (1/nobs_o)*np.dot(v_hat,u_hat)\n",
    "    den = (1/nobs_o)*np.dot(v_hat,Do)\n",
    "    ratio = num/den\n",
    "    # what would happen if I used the actual residuals and a linear regression?\n",
    "    reg = LinearRegression(fit_intercept = False).fit(X=v_hat.values.reshape((nobs_o,1)), y=u_hat)\n",
    "    theta_resids = reg.coef_[0]\n",
    "    \n",
    "    return ratio, theta_resids"
   ]
  },
  {
   "cell_type": "code",
   "execution_count": 1734,
   "metadata": {},
   "outputs": [],
   "source": [
    "def estimate_dml_simple(X,y,D, D_is_binary = True):\n",
    "    \"Estimate Double Machine Learning\"\n",
    "    # Split the samples\n",
    "    sple1 = np.random.choice(X.index, int(len(X)/2))\n",
    "    sple2 = list(set(X.index) - set(ix_sample))\n",
    "    # get estimators\n",
    "    est1, theta1 = estimate_dml_subsample(X,y,D,ix_sample=sple1, D_is_binary = D_is_binary)\n",
    "    est2, theta2 = estimate_dml_subsample(X,y,D,ix_sample=sple2, D_is_binary= D_is_binary)\n",
    "    # average\n",
    "    avg = 0.5*(est1 + est2)\n",
    "    theta = 0.5*(theta1 + theta2)\n",
    "    return avg, theta"
   ]
  },
  {
   "cell_type": "code",
   "execution_count": 1735,
   "metadata": {},
   "outputs": [
    {
     "name": "stdout",
     "output_type": "stream",
     "text": [
      "Double ML ATE = -5.009797155254498 \n",
      "True effect = -5\n",
      "---------- \n",
      "----------\n",
      "Double ML ATE (frisch-waugh) = -4.744566174300845\n"
     ]
    }
   ],
   "source": [
    "# simulate a linear model: this is a simple benchmark\n",
    "nobs = 1000\n",
    "seed = 81651\n",
    "num_xs = 2\n",
    "true_effect = -5  # you can play with this parameter in your simulations\n",
    "dict_sel_bias = simulate_selection_bias(nobs, seed, num_xs=2, true_effect = true_effect)\n",
    "\n",
    "y = dict_sel_bias['y']\n",
    "D = dict_sel_bias['D']\n",
    "X = dict_sel_bias['X']\n",
    "dml_ate, dml_fw = estimate_dml_simple(X,y,D)\n",
    "\n",
    "print(f'Double ML ATE = {dml_ate} \\nTrue effect = {true_effect}')\n",
    "print('---------- \\n----------')\n",
    "print(f'Double ML ATE (frisch-waugh) = {dml_fw}')\n",
    "# this shows"
   ]
  },
  {
   "cell_type": "code",
   "execution_count": 1736,
   "metadata": {},
   "outputs": [],
   "source": [
    "# functions to simulate non-linear functions in the DGPs\n",
    "def logistic_function(x):\n",
    "    log_fn = 1/(1+ np.exp(-x))\n",
    "    return log_fn\n",
    "\n",
    "def my_cosh(x):\n",
    "    mycos = np.cosh(x)\n",
    "    return mycos"
   ]
  },
  {
   "cell_type": "code",
   "execution_count": 1737,
   "metadata": {},
   "outputs": [],
   "source": [
    "# now simulate a nonlinear model\n",
    "def simulate_nonlinear(nobs, seed, num_xs, true_effect):\n",
    "    \"\"\"\n",
    "    Simulate selection bias with non-linear functions g and m\n",
    "    Used in Double ML tests\n",
    "    \"\"\"\n",
    "    np.random.seed(seed)\n",
    "    # X is multivariate normal with fixed COV and MU\n",
    "    rho = 0.5\n",
    "    preX = simulate_xmatrix_rho(nobs, num_xs, rho, seed)\n",
    "    labels_x = [f'x{i}' for i in range(1,num_xs+1)]\n",
    "    X = pd.DataFrame(preX, columns = labels_x)\n",
    "    X['intercept'] = 1\n",
    "    X = X[['intercept'] + labels_x] # reorder columns to have intercept first\n",
    "    # get random coefficients in the simulation\n",
    "    size_alpha = num_xs + 1\n",
    "    random_alpha_z = np.random.randn(size_alpha).round(decimals=1).reshape((size_alpha,1))\n",
    "    gfunc = logistic_function(np.dot(X,random_alpha_z))  # USE LOGISTIC FUNCTION\n",
    "    preD =  gfunc + np.random.randn(nobs,1) # noise ~ N(0,1)\n",
    "    q80 = np.quantile(preD, 0.8)\n",
    "    D = 1*(preD>=q80)\n",
    "    # now model y\n",
    "    K = num_xs + 1 # intercept + X  NOTE: I DROPPED THE TRUE EFFECT\n",
    "    random_alpha_y = np.random.randn(K).round(decimals=1).reshape((K,1))\n",
    "    mfunc = my_cosh(np.dot(X, random_alpha_y))  # USE COSH function\n",
    "    D_eff = true_effect*D\n",
    "    prey = mfunc + D_eff + np.random.randn(nobs,1)  # noise ~ N(0,1)\n",
    "    y = pd.DataFrame(prey, index = X.index)\n",
    "    # drop intercepts as these are not needed for estimation\n",
    "    X.drop(columns=['intercept'], inplace=True)\n",
    "    # store everything in a dict\n",
    "    dict_simu = {}\n",
    "    dict_simu['y'] = y\n",
    "    dict_simu['X'] = X\n",
    "    dict_simu['D'] = pd.Series(D.flatten(), index=X.index)\n",
    "    dict_simu['params_y'] = random_alpha_y.flatten()\n",
    "    dict_simu['params_latent'] = random_alpha_z.flatten()\n",
    "    return dict_simu"
   ]
  },
  {
   "cell_type": "code",
   "execution_count": 1738,
   "metadata": {},
   "outputs": [
    {
     "name": "stdout",
     "output_type": "stream",
     "text": [
      "Double ML ATE = (-5.45208974361335, -4.846395518042739) \n",
      "True effect = -5\n"
     ]
    }
   ],
   "source": [
    "dict_nonlinear = simulate_nonlinear(nobs, seed, num_xs, true_effect)\n",
    "y1 = dict_nonlinear['y']\n",
    "D1 = dict_nonlinear['D']\n",
    "X1 = dict_nonlinear['X']\n",
    "dml_ate_nl = estimate_dml_simple(X1,y1,D1)\n",
    "\n",
    "print(f'Double ML ATE = {dml_ate_nl} \\nTrue effect = {true_effect}')"
   ]
  }
 ],
 "metadata": {
  "kernelspec": {
   "display_name": "Python 3",
   "language": "python",
   "name": "python3"
  },
  "language_info": {
   "codemirror_mode": {
    "name": "ipython",
    "version": 3
   },
   "file_extension": ".py",
   "mimetype": "text/x-python",
   "name": "python",
   "nbconvert_exporter": "python",
   "pygments_lexer": "ipython3",
   "version": "3.7.6"
  }
 },
 "nbformat": 4,
 "nbformat_minor": 4
}
