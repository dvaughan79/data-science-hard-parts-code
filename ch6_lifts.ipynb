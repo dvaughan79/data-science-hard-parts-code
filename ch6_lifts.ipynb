{
 "cells": [
  {
   "cell_type": "markdown",
   "metadata": {},
   "source": [
    "# Material for Chapter 6: Lifts\n",
    "\n",
    "* This notebooks include some code used in Chapter 6."
   ]
  },
  {
   "cell_type": "code",
   "execution_count": 64,
   "metadata": {},
   "outputs": [],
   "source": [
    "import pandas as pd\n",
    "import numpy as np\n",
    "import matplotlib.pyplot as plt\n",
    "import matplotlib\n",
    "from sklearn.linear_model import LogisticRegression\n",
    "from sklearn.model_selection import train_test_split\n",
    "\n",
    "# set plotting parameters from the beginning\n",
    "font = {'family' : 'monospace',\n",
    "        'weight' : 'normal',\n",
    "        'size'   : 14}\n",
    "axes = {\n",
    "        'titlesize' : 22,\n",
    "        'labelsize' : 20}\n",
    "matplotlib.rc('font', **font)  # pass in the font dict as kwargs\n",
    "matplotlib.rc('axes', **axes)  # pass in the font dict as kwargs\n"
   ]
  },
  {
   "cell_type": "markdown",
   "metadata": {},
   "source": [
    "### Lifts in classifiers"
   ]
  },
  {
   "cell_type": "code",
   "execution_count": 65,
   "metadata": {},
   "outputs": [],
   "source": [
    "def balance_data(ydf, xdf, sampling_method):\n",
    "    '''\n",
    "    Function to balance a dataset by under or oversampling\n",
    "    Inputs:\n",
    "        ydf: Y: usually Ytrain\n",
    "        xdf: X: usually Xtrain\n",
    "        sampling_method: ['over','under']\n",
    "    Output:\n",
    "        Balanced versions of y and x\n",
    "    '''\n",
    "    # find minority class: if mean < 0.5 -> minority class = 1\n",
    "    min_class = 1*(ydf.mean() < 0.5)\n",
    "    # get indices for classes\n",
    "    loc_min = ydf == min_class\n",
    "    min_ix = ydf[loc_min].index\n",
    "    max_ix = ydf[loc_min==False].index\n",
    "    n_min = len(min_ix)\n",
    "    n_max = len(max_ix)\n",
    "    if sampling_method == 'over':\n",
    "        num_sml = n_max//n_min\n",
    "        sml_ix = np.random.choice(min_ix, size = n_max, replace = True)\n",
    "        sml_all = np.concatenate((sml_ix, max_ix),axis = 0)\n",
    "    elif sampling_method == 'under':\n",
    "        sml_ix = np.random.choice(max_ix, size = n_min, replace = True)\n",
    "        sml_all = np.concatenate((sml_ix, min_ix),axis = 0)\n",
    "    # ready to assemble everything\n",
    "    y_new = ydf.loc[sml_all]\n",
    "    x_new = xdf.loc[sml_all]\n",
    "    return y_new, x_new"
   ]
  },
  {
   "cell_type": "code",
   "execution_count": 85,
   "metadata": {},
   "outputs": [],
   "source": [
    "np.random.seed(2145)\n",
    "N = 1000\n",
    "# simple model: z = 0.5 + 10*x + epsilon\n",
    "# X ~ N(0,1)\n",
    "# epsilon ~N(0,0.5)\n",
    "var1 = 1\n",
    "var2 = 10\n",
    "var_epsilon = 10\n",
    "x1 = np.sqrt(var1)*np.random.normal(size = N)\n",
    "x2 = np.sqrt(var2)*np.random.normal(size = N)\n",
    "epsilon = np.sqrt(var_epsilon)*np.random.normal(size=N)\n",
    "z = 0.5 - 15*x1 + 7*x2 + epsilon\n",
    "thresh = np.quantile(z, 0.25)\n",
    "y = 1*(z < thresh)\n",
    "df = pd.DataFrame(y, columns = ['y'])"
   ]
  },
  {
   "cell_type": "code",
   "execution_count": 86,
   "metadata": {},
   "outputs": [
    {
     "name": "stdout",
     "output_type": "stream",
     "text": [
      "Sample mean of balanced y = 0.5\n"
     ]
    }
   ],
   "source": [
    "# train a simple classifier: Logistic regression\n",
    "# I will exclude one of the features on purpose\n",
    "df_x = pd.DataFrame(x1, columns = ['x1'])\n",
    "X_train, X_test, y_train, y_test = train_test_split(df_x, df, test_size=0.2, random_state=2127)\n",
    "# balance y_train, X_train\n",
    "y_bal, x_bal = balance_data(df.y, df_x, sampling_method = 'over')\n",
    "print(f'Sample mean of balanced y = {y_bal.mean()}')"
   ]
  },
  {
   "cell_type": "code",
   "execution_count": 87,
   "metadata": {},
   "outputs": [],
   "source": [
    "# train logistic regression\n",
    "clf = LogisticRegression(random_state=0).fit(x_bal, y_bal)\n",
    "# predict in test\n",
    "df_score = pd.DataFrame(clf.predict_proba(X_test)[:,1], columns = ['score'], index = X_test.index)\n",
    "# get deciles\n",
    "deciles = pd.qcut(df_score.score, q = np.linspace(0,1,11))\n",
    "edges = deciles.apply(lambda x: x.left)\n",
    "decile_dic = {cat:i for i,cat in enumerate(np.sort(edges.unique()))}\n",
    "deciles_cats = edges.replace(decile_dic)\n",
    "df_score['deciles'] = deciles_cats\n",
    "df_score['y_test'] = y_test"
   ]
  },
  {
   "cell_type": "code",
   "execution_count": 88,
   "metadata": {},
   "outputs": [
    {
     "data": {
      "text/html": [
       "<div>\n",
       "<style scoped>\n",
       "    .dataframe tbody tr th:only-of-type {\n",
       "        vertical-align: middle;\n",
       "    }\n",
       "\n",
       "    .dataframe tbody tr th {\n",
       "        vertical-align: top;\n",
       "    }\n",
       "\n",
       "    .dataframe thead th {\n",
       "        text-align: right;\n",
       "    }\n",
       "</style>\n",
       "<table border=\"1\" class=\"dataframe\">\n",
       "  <thead>\n",
       "    <tr style=\"text-align: right;\">\n",
       "      <th></th>\n",
       "      <th>churn_deciles</th>\n",
       "      <th>lift</th>\n",
       "    </tr>\n",
       "    <tr>\n",
       "      <th>deciles</th>\n",
       "      <th></th>\n",
       "      <th></th>\n",
       "    </tr>\n",
       "  </thead>\n",
       "  <tbody>\n",
       "    <tr>\n",
       "      <th>0</th>\n",
       "      <td>0.05</td>\n",
       "      <td>0.181818</td>\n",
       "    </tr>\n",
       "    <tr>\n",
       "      <th>1</th>\n",
       "      <td>0.10</td>\n",
       "      <td>0.363636</td>\n",
       "    </tr>\n",
       "    <tr>\n",
       "      <th>2</th>\n",
       "      <td>0.10</td>\n",
       "      <td>0.363636</td>\n",
       "    </tr>\n",
       "    <tr>\n",
       "      <th>3</th>\n",
       "      <td>0.20</td>\n",
       "      <td>0.727273</td>\n",
       "    </tr>\n",
       "    <tr>\n",
       "      <th>4</th>\n",
       "      <td>0.15</td>\n",
       "      <td>0.545455</td>\n",
       "    </tr>\n",
       "    <tr>\n",
       "      <th>5</th>\n",
       "      <td>0.15</td>\n",
       "      <td>0.545455</td>\n",
       "    </tr>\n",
       "    <tr>\n",
       "      <th>6</th>\n",
       "      <td>0.25</td>\n",
       "      <td>0.909091</td>\n",
       "    </tr>\n",
       "    <tr>\n",
       "      <th>7</th>\n",
       "      <td>0.40</td>\n",
       "      <td>1.454545</td>\n",
       "    </tr>\n",
       "    <tr>\n",
       "      <th>8</th>\n",
       "      <td>0.60</td>\n",
       "      <td>2.181818</td>\n",
       "    </tr>\n",
       "    <tr>\n",
       "      <th>9</th>\n",
       "      <td>0.75</td>\n",
       "      <td>2.727273</td>\n",
       "    </tr>\n",
       "  </tbody>\n",
       "</table>\n",
       "</div>"
      ],
      "text/plain": [
       "         churn_deciles      lift\n",
       "deciles                         \n",
       "0                 0.05  0.181818\n",
       "1                 0.10  0.363636\n",
       "2                 0.10  0.363636\n",
       "3                 0.20  0.727273\n",
       "4                 0.15  0.545455\n",
       "5                 0.15  0.545455\n",
       "6                 0.25  0.909091\n",
       "7                 0.40  1.454545\n",
       "8                 0.60  2.181818\n",
       "9                 0.75  2.727273"
      ]
     },
     "execution_count": 88,
     "metadata": {},
     "output_type": "execute_result"
    }
   ],
   "source": [
    "# plot true positive rate (churn rate by decile)\n",
    "churn_df = pd.DataFrame(df_score.y_test.groupby(df_score.deciles).mean())\n",
    "churn_df.rename(columns = {'y_test':'churn_deciles'}, inplace = True)\n",
    "avg_churn = df_score.y_test.mean()\n",
    "churn_df['lift'] = churn_df.churn_deciles/avg_churn\n",
    "churn_df"
   ]
  },
  {
   "cell_type": "code",
   "execution_count": 113,
   "metadata": {},
   "outputs": [
    {
     "name": "stdout",
     "output_type": "stream",
     "text": [
      "\n"
     ]
    },
    {
     "data": {
      "image/png": "[encoded data removed]",
      "text/plain": [
       "<Figure size 576x432 with 2 Axes>"
      ]
     },
     "metadata": {
      "needs_background": "light"
     },
     "output_type": "display_data"
    }
   ],
   "source": [
    "fig, ax = plt.subplots(figsize = (8,6))\n",
    "churn_df.churn_deciles.plot(ax = ax, kind = 'bar', color = '0.6', edgecolor = 'k')\n",
    "ax.set_xticklabels(range(1,11), rotation = 0)\n",
    "ax.set_title('TPR and Lift by Score Decile')\n",
    "ax.set_ylabel('TPR')\n",
    "# now plot Lifts on secondary axis\n",
    "ax1 = ax.twinx()\n",
    "ax1.set_ylabel('Lift')\n",
    "ax1.scatter(churn_df.index, churn_df.lift, color = 'k')\n",
    "for i, ind in enumerate(churn_df.index):\n",
    "    y_i = churn_df.lift.loc[ind]\n",
    "    str_lft = np.around(y_i, decimals = 1)\n",
    "    ax1.text(ind, 1.01*y_i, str_lft, fontsize = 12,\n",
    "             horizontalalignment = 'center', verticalalignment = 'bottom')\n",
    "xmin, xmax = ax.get_xlim()\n",
    "ymin, ymax = ax1.get_xlim()\n",
    "ax1.plot([xmin, xmax], [1,1], ls = '--', color = 'k', alpha = 0.5)\n",
    "fig.tight_layout()\n",
    "print('')"
   ]
  },
  {
   "cell_type": "markdown",
   "metadata": {},
   "source": [
    "# Selection and Survival Bias"
   ]
  },
  {
   "cell_type": "code",
   "execution_count": 192,
   "metadata": {},
   "outputs": [
    {
     "name": "stdout",
     "output_type": "stream",
     "text": [
      "% of users that churn = 50.0%\n"
     ]
    },
    {
     "data": {
      "text/html": [
       "<div>\n",
       "<style scoped>\n",
       "    .dataframe tbody tr th:only-of-type {\n",
       "        vertical-align: middle;\n",
       "    }\n",
       "\n",
       "    .dataframe tbody tr th {\n",
       "        vertical-align: top;\n",
       "    }\n",
       "\n",
       "    .dataframe thead th {\n",
       "        text-align: right;\n",
       "    }\n",
       "</style>\n",
       "<table border=\"1\" class=\"dataframe\">\n",
       "  <thead>\n",
       "    <tr style=\"text-align: right;\">\n",
       "      <th></th>\n",
       "      <th>y</th>\n",
       "      <th>Monthly spend</th>\n",
       "      <th>Customer satisfaction score</th>\n",
       "      <th>Income</th>\n",
       "      <th>Tenure</th>\n",
       "    </tr>\n",
       "  </thead>\n",
       "  <tbody>\n",
       "    <tr>\n",
       "      <th>0</th>\n",
       "      <td>0</td>\n",
       "      <td>0.001755</td>\n",
       "      <td>9.530760</td>\n",
       "      <td>89681.521323</td>\n",
       "      <td>99.853734</td>\n",
       "    </tr>\n",
       "    <tr>\n",
       "      <th>1</th>\n",
       "      <td>1</td>\n",
       "      <td>2.046138</td>\n",
       "      <td>10.379185</td>\n",
       "      <td>83927.005339</td>\n",
       "      <td>65.770390</td>\n",
       "    </tr>\n",
       "    <tr>\n",
       "      <th>2</th>\n",
       "      <td>0</td>\n",
       "      <td>4.910091</td>\n",
       "      <td>10.350077</td>\n",
       "      <td>43982.043159</td>\n",
       "      <td>96.912565</td>\n",
       "    </tr>\n",
       "    <tr>\n",
       "      <th>3</th>\n",
       "      <td>1</td>\n",
       "      <td>2.149102</td>\n",
       "      <td>9.980432</td>\n",
       "      <td>43055.896291</td>\n",
       "      <td>93.997718</td>\n",
       "    </tr>\n",
       "    <tr>\n",
       "      <th>4</th>\n",
       "      <td>1</td>\n",
       "      <td>1.568903</td>\n",
       "      <td>11.083620</td>\n",
       "      <td>46213.023900</td>\n",
       "      <td>65.982417</td>\n",
       "    </tr>\n",
       "  </tbody>\n",
       "</table>\n",
       "</div>"
      ],
      "text/plain": [
       "   y  Monthly spend  Customer satisfaction score        Income     Tenure\n",
       "0  0       0.001755                     9.530760  89681.521323  99.853734\n",
       "1  1       2.046138                    10.379185  83927.005339  65.770390\n",
       "2  0       4.910091                    10.350077  43982.043159  96.912565\n",
       "3  1       2.149102                     9.980432  43055.896291  93.997718\n",
       "4  1       1.568903                    11.083620  46213.023900  65.982417"
      ]
     },
     "execution_count": 192,
     "metadata": {},
     "output_type": "execute_result"
    }
   ],
   "source": [
    "# let's create a simulated example of features for the churn model\n",
    "np.random.seed(2022)\n",
    "size = 100\n",
    "x1 = 10*np.random.beta(a = 0.5, b =1 , size = size)\n",
    "x2 = 10 + np.random.normal(size = size)\n",
    "x3 = 1000*np.random.uniform(low = 1, high = 100, size = size)\n",
    "x4 = 100*np.random.beta(a = 5, b = 0.5, size = size)\n",
    "noise = np.random.normal(size=size)\n",
    "pre_y = 5 - 0.3*x1 + 7*x2 + 5*x3 - 50000*x4+ noise \n",
    "thresh = np.quantile(pre_y, 0.5)\n",
    "y = 1*(pre_y > thresh)\n",
    "churn_rate = 100*np.mean(y)\n",
    "print(f'% of users that churn = {churn_rate}%')\n",
    "\n",
    "# let's have everything in a DF\n",
    "df = pd.DataFrame(y, columns = ['y'])\n",
    "df['Monthly spend'] = x1\n",
    "df['Customer satisfaction score'] = x2\n",
    "df['Income'] = x3\n",
    "df['Tenure'] = x4\n",
    "df.head()"
   ]
  },
  {
   "cell_type": "code",
   "execution_count": 196,
   "metadata": {},
   "outputs": [
    {
     "data": {
      "text/html": [
       "<div>\n",
       "<style scoped>\n",
       "    .dataframe tbody tr th:only-of-type {\n",
       "        vertical-align: middle;\n",
       "    }\n",
       "\n",
       "    .dataframe tbody tr th {\n",
       "        vertical-align: top;\n",
       "    }\n",
       "\n",
       "    .dataframe thead th {\n",
       "        text-align: right;\n",
       "    }\n",
       "</style>\n",
       "<table border=\"1\" class=\"dataframe\">\n",
       "  <thead>\n",
       "    <tr style=\"text-align: right;\">\n",
       "      <th>y</th>\n",
       "      <th>All</th>\n",
       "      <th>Churned</th>\n",
       "      <th>Lift</th>\n",
       "    </tr>\n",
       "  </thead>\n",
       "  <tbody>\n",
       "    <tr>\n",
       "      <th>Monthly spend</th>\n",
       "      <td>2.99</td>\n",
       "      <td>3.27</td>\n",
       "      <td>1.10</td>\n",
       "    </tr>\n",
       "    <tr>\n",
       "      <th>Customer satisfaction score</th>\n",
       "      <td>10.00</td>\n",
       "      <td>10.08</td>\n",
       "      <td>1.01</td>\n",
       "    </tr>\n",
       "    <tr>\n",
       "      <th>Income</th>\n",
       "      <td>46521.26</td>\n",
       "      <td>54804.56</td>\n",
       "      <td>1.18</td>\n",
       "    </tr>\n",
       "    <tr>\n",
       "      <th>Tenure</th>\n",
       "      <td>98.48</td>\n",
       "      <td>81.44</td>\n",
       "      <td>0.83</td>\n",
       "    </tr>\n",
       "  </tbody>\n",
       "</table>\n",
       "</div>"
      ],
      "text/plain": [
       "y                                 All   Churned  Lift\n",
       "Monthly spend                    2.99      3.27  1.10\n",
       "Customer satisfaction score     10.00     10.08  1.01\n",
       "Income                       46521.26  54804.56  1.18\n",
       "Tenure                          98.48     81.44  0.83"
      ]
     },
     "execution_count": 196,
     "metadata": {},
     "output_type": "execute_result"
    }
   ],
   "source": [
    "cols = ['Monthly spend', 'Customer satisfaction score', 'Income','Tenure']\n",
    "mean_df = df[cols].groupby(df.y).mean().T\n",
    "mean_df['Lift'] = mean_df[1]/mean_df[0]\n",
    "mean_df.rename(columns = {0:'All', 1: 'Churned'}, inplace = True)\n",
    "mean_df.round(decimals = 2)"
   ]
  },
  {
   "cell_type": "code",
   "execution_count": 198,
   "metadata": {},
   "outputs": [
    {
     "data": {
      "text/plain": [
       "Monthly spend                      3.130616\n",
       "Customer satisfaction score       10.039256\n",
       "Income                         50662.911837\n",
       "Tenure                            89.958937\n",
       "dtype: float64"
      ]
     },
     "execution_count": 198,
     "metadata": {},
     "output_type": "execute_result"
    }
   ],
   "source": [
    "df[cols].mean()"
   ]
  }
 ],
 "metadata": {
  "kernelspec": {
   "display_name": "Python 3",
   "language": "python",
   "name": "python3"
  },
  "language_info": {
   "codemirror_mode": {
    "name": "ipython",
    "version": 3
   },
   "file_extension": ".py",
   "mimetype": "text/x-python",
   "name": "python",
   "nbconvert_exporter": "python",
   "pygments_lexer": "ipython3",
   "version": "3.7.6"
  }
 },
 "nbformat": 4,
 "nbformat_minor": 4
}
